{
 "cells": [
  {
   "cell_type": "code",
   "execution_count": 1,
   "outputs": [
    {
     "name": "stdout",
     "output_type": "stream",
     "text": [
      "Most Common Answer: schwarz\n",
      "Agreement Score: 0.6666666666666666\n"
     ]
    }
   ],
   "source": [
    "model_responses = [\n",
    "    \"schwarz\",\n",
    "    \"grun\",\n",
    "    \"schwarz\"\n",
    "]\n",
    "\n",
    "most_common_answer = max(set(model_responses), key=model_responses.count)\n",
    "\n",
    "# agreement score based on frequency\n",
    "agreement_score = model_responses.count(most_common_answer) / len(model_responses)\n",
    "\n",
    "print(f\"Most Common Answer: {most_common_answer}\")\n",
    "print(f\"Agreement Score: {agreement_score}\")\n"
   ],
   "metadata": {
    "collapsed": false
   }
  },
  {
   "cell_type": "code",
   "execution_count": 6,
   "outputs": [
    {
     "name": "stdout",
     "output_type": "stream",
     "text": [
      "Jaccard Similarity (micro average): 0.5\n"
     ]
    }
   ],
   "source": [
    "from sklearn.metrics import jaccard_score\n",
    "from sklearn.feature_extraction.text import CountVectorizer\n",
    "\n",
    "\n",
    "answer1 = \"The color is black\"\n",
    "answer2 = \"Color: Black\"\n",
    "\n",
    "ngram_range = (1, 1)\n",
    "vectorizer = CountVectorizer(ngram_range=ngram_range)\n",
    "X = vectorizer.fit_transform([answer1, answer2])\n",
    "\n",
    "jaccard_similarity = jaccard_score(X[0].toarray(), X[1].toarray(), average='micro')\n",
    "\n",
    "\n",
    "print(f\"Jaccard Similarity (micro average): {jaccard_similarity}\")\n"
   ],
   "metadata": {
    "collapsed": false
   }
  },
  {
   "cell_type": "code",
   "execution_count": 7,
   "outputs": [
    {
     "name": "stdout",
     "output_type": "stream",
     "text": [
      "Cohen's Kappa Score: 0.10000000000000009\n"
     ]
    }
   ],
   "source": [
    "from sklearn.metrics import cohen_kappa_score\n",
    "\n",
    "\n",
    "model1_predictions = [True, False, True, False, True, False, True, False, False]\n",
    "model2_predictions = [True, True, True, False, False, False, False, False, True]\n",
    "\n",
    "# Cohen's Kappa between Model 1 and Model 2\n",
    "kappa_score = cohen_kappa_score(model1_predictions, model2_predictions)\n",
    "\n",
    "print(f\"Cohen's Kappa Score: {kappa_score}\")"
   ],
   "metadata": {
    "collapsed": false
   }
  }
 ],
 "metadata": {
  "kernelspec": {
   "display_name": "Python 3",
   "language": "python",
   "name": "python3"
  },
  "language_info": {
   "codemirror_mode": {
    "name": "ipython",
    "version": 2
   },
   "file_extension": ".py",
   "mimetype": "text/x-python",
   "name": "python",
   "nbconvert_exporter": "python",
   "pygments_lexer": "ipython2",
   "version": "2.7.6"
  }
 },
 "nbformat": 4,
 "nbformat_minor": 0
}
