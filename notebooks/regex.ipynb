{
 "cells": [
  {
   "cell_type": "code",
   "execution_count": 1,
   "metadata": {
    "collapsed": true
   },
   "outputs": [
    {
     "name": "stderr",
     "output_type": "stream",
     "text": [
      "[INFO] Loading used combinations data...\n",
      "[INFO] Loading descriptions data...\n",
      "[INFO] Loading attributes data...\n",
      "C:\\Users\\Public\\anaconda\\lib\\site-packages\\pandas\\core\\reshape\\merge.py:1204: RuntimeWarning: invalid value encountered in cast\n",
      "  if not (lk == lk.astype(rk.dtype))[~np.isnan(lk)].all():\n"
     ]
    }
   ],
   "source": [
    "import os\n",
    "\n",
    "from src.data_processing.data_loader import DataLoader\n",
    "data_path=os.environ.get('DATA_PATH')\n",
    "\n",
    "data=DataLoader(data_path).pre_process()"
   ]
  },
  {
   "cell_type": "code",
   "execution_count": 2,
   "outputs": [],
   "source": [
    "df=data.query(\"`attribute` in ['Breite','Breite [cm]','Breite der Tafel','Breite des Bandes','Breite des Bildrandes','Breite des Blattes','Breite des Etiketts','Breite des Rückens','Breite des Innenteils','Breite des Rückens','Breite des Schildes','Breite des Tisches']\")"
   ],
   "metadata": {
    "collapsed": false
   }
  },
  {
   "cell_type": "code",
   "execution_count": 3,
   "outputs": [
    {
     "data": {
      "text/plain": "Breite                   3780\nBreite des Rückens        490\nBreite der Tafel          403\nBreite des Blattes        400\nBreite des Schildes        54\nBreite des Innenteils      49\nBreite [cm]                45\nBreite des Etiketts        30\nBreite des Bandes          25\nBreite des Bildrandes      18\nBreite des Tisches         10\nName: AttributeKey, dtype: int64"
     },
     "execution_count": 3,
     "metadata": {},
     "output_type": "execute_result"
    }
   ],
   "source": [
    "df['attribute'].value_counts()"
   ],
   "metadata": {
    "collapsed": false
   }
  },
  {
   "cell_type": "code",
   "execution_count": 4,
   "outputs": [
    {
     "name": "stdout",
     "output_type": "stream",
     "text": [
      "4,2\n",
      "3\n",
      "5\n",
      "124\n",
      "None\n",
      "250x7x200mm\n"
     ]
    }
   ],
   "source": [
    "from src.utils.helpers import extract_width\n",
    "\n",
    "product_descriptions = [\n",
    "    \"Bandbreite 4,2 cm\",\n",
    "    \"Breite des Bildrandes: 3 mm\",\n",
    "    \"Breite: 5 mm\",\n",
    "    \"Größe: 124 x 124 \"\n",
    "    \"\"\n",
    "    \"mm (B x H)\",\n",
    "    \"Größe (L x B)\",\n",
    "    \"250x7x200mm\"\n",
    "]\n",
    "\n",
    "for description in product_descriptions:\n",
    "    width = extract_width(description)\n",
    "    print(width)\n"
   ],
   "metadata": {
    "collapsed": false
   }
  },
  {
   "cell_type": "code",
   "execution_count": 5,
   "outputs": [
    {
     "name": "stderr",
     "output_type": "stream",
     "text": [
      "<ipython-input-5-26003f3b3d0d>:1: SettingWithCopyWarning: \n",
      "A value is trying to be set on a copy of a slice from a DataFrame.\n",
      "Try using .loc[row_indexer,col_indexer] = value instead\n",
      "\n",
      "See the caveats in the documentation: https://pandas.pydata.org/pandas-docs/stable/user_guide/indexing.html#returning-a-view-versus-a-copy\n",
      "  df['prediction']=df['Text'].apply(extract_width)\n"
     ]
    }
   ],
   "source": [
    "df['prediction']=df['text'].apply(extract_width)"
   ],
   "metadata": {
    "collapsed": false
   }
  },
  {
   "cell_type": "code",
   "execution_count": 6,
   "outputs": [
    {
     "name": "stderr",
     "output_type": "stream",
     "text": [
      "<ipython-input-6-7a1841a53958>:1: SettingWithCopyWarning: \n",
      "A value is trying to be set on a copy of a slice from a DataFrame.\n",
      "Try using .loc[row_indexer,col_indexer] = value instead\n",
      "\n",
      "See the caveats in the documentation: https://pandas.pydata.org/pandas-docs/stable/user_guide/indexing.html#returning-a-view-versus-a-copy\n",
      "  df['prediction']=df['prediction'].fillna('')\n"
     ]
    }
   ],
   "source": [
    "df['prediction']=df['prediction'].fillna('')"
   ],
   "metadata": {
    "collapsed": false
   }
  },
  {
   "cell_type": "code",
   "execution_count": 7,
   "outputs": [
    {
     "name": "stderr",
     "output_type": "stream",
     "text": [
      "C:\\Users\\Public\\anaconda\\lib\\site-packages\\scipy\\__init__.py:146: UserWarning: A NumPy version >=1.16.5 and <1.23.0 is required for this version of SciPy (detected version 1.25.1\n",
      "  warnings.warn(f\"A NumPy version >={np_minversion} and <{np_maxversion}\"\n"
     ]
    },
    {
     "name": "stdout",
     "output_type": "stream",
     "text": [
      "{'exact_match': 0.5377073906485671, 'f1_score': 0.5756661639014593}\n"
     ]
    }
   ],
   "source": [
    "from src.evaluation import Evaluator\n",
    "\n",
    "evaluator = Evaluator()\n",
    "print(evaluator.compute_metrics(df))"
   ],
   "metadata": {
    "collapsed": false
   }
  },
  {
   "cell_type": "code",
   "execution_count": 8,
   "outputs": [],
   "source": [
    "df=data.query(\"`attribute` in ['Abmessung der Stempelfläche','Abmessung der Sichtfläche','Abmessung des Rahmens']\")"
   ],
   "metadata": {
    "collapsed": false
   }
  },
  {
   "cell_type": "code",
   "execution_count": 9,
   "outputs": [
    {
     "name": "stderr",
     "output_type": "stream",
     "text": [
      "<ipython-input-9-2af4d018b26e>:4: SettingWithCopyWarning: \n",
      "A value is trying to be set on a copy of a slice from a DataFrame.\n",
      "Try using .loc[row_indexer,col_indexer] = value instead\n",
      "\n",
      "See the caveats in the documentation: https://pandas.pydata.org/pandas-docs/stable/user_guide/indexing.html#returning-a-view-versus-a-copy\n",
      "  df['prediction']=df['Text'].apply(extract_dimensions)\n"
     ]
    }
   ],
   "source": [
    "description= \"Abmessung der Sichtfläche: 521 x 294 mm/ .\"\n",
    "from src.utils.helpers import extract_dimensions\n",
    "\n",
    "df['prediction']=df['text'].apply(extract_dimensions)"
   ],
   "metadata": {
    "collapsed": false
   }
  },
  {
   "cell_type": "code",
   "execution_count": 10,
   "outputs": [
    {
     "name": "stderr",
     "output_type": "stream",
     "text": [
      "<ipython-input-10-7a1841a53958>:1: SettingWithCopyWarning: \n",
      "A value is trying to be set on a copy of a slice from a DataFrame.\n",
      "Try using .loc[row_indexer,col_indexer] = value instead\n",
      "\n",
      "See the caveats in the documentation: https://pandas.pydata.org/pandas-docs/stable/user_guide/indexing.html#returning-a-view-versus-a-copy\n",
      "  df['prediction']=df['prediction'].fillna('')\n"
     ]
    }
   ],
   "source": [
    "df['prediction']=df['prediction'].fillna('')"
   ],
   "metadata": {
    "collapsed": false
   }
  },
  {
   "cell_type": "code",
   "execution_count": 11,
   "outputs": [
    {
     "name": "stdout",
     "output_type": "stream",
     "text": [
      "{'exact_match': 0.4222222222222222, 'f1_score': 0.44708994708994704}\n"
     ]
    }
   ],
   "source": [
    "evaluator = Evaluator()\n",
    "print(evaluator.compute_metrics(df))\n"
   ],
   "metadata": {
    "collapsed": false
   }
  }
 ],
 "metadata": {
  "kernelspec": {
   "display_name": "Python 3",
   "language": "python",
   "name": "python3"
  },
  "language_info": {
   "codemirror_mode": {
    "name": "ipython",
    "version": 2
   },
   "file_extension": ".py",
   "mimetype": "text/x-python",
   "name": "python",
   "nbconvert_exporter": "python",
   "pygments_lexer": "ipython2",
   "version": "2.7.6"
  }
 },
 "nbformat": 4,
 "nbformat_minor": 0
}
